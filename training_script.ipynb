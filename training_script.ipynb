{
  "cells": [
    {
      "cell_type": "code",
      "execution_count": 1,
      "metadata": {
        "id": "A-Zjc4SUAK-q"
      },
      "outputs": [],
      "source": [
        "import tensorflow_datasets as tfds\n",
        "import tensorflow as tf\n",
        "from tensorflow import keras\n",
        "import matplotlib.pyplot as plt\n",
        "from tensorflow.keras.models import Sequential\n",
        "from tensorflow.keras.layers import Conv2D, MaxPooling2D, Flatten, Dense"
      ]
    },
    {
      "cell_type": "code",
      "source": [
        "#!kill -1 -9"
      ],
      "metadata": {
        "id": "b94l_d6Pk1Uq"
      },
      "execution_count": 2,
      "outputs": []
    },
    {
      "cell_type": "code",
      "source": [
        "(train_ds, val_ds, test_ds), metadata = tfds.load('emnist',\n",
        "                                                 split=['train[:80%]', 'train[80%:90%]', 'train[90%:]'],\n",
        "                                                 with_info=True,\n",
        "                                                 as_supervised=True)"
      ],
      "metadata": {
        "id": "DeXeHjHBO39Q"
      },
      "execution_count": 39,
      "outputs": []
    },
    {
      "cell_type": "code",
      "source": [
        "num_classes = metadata.features['label'].num_classes"
      ],
      "metadata": {
        "id": "iIvo3pVEhPdS"
      },
      "execution_count": 4,
      "outputs": []
    },
    {
      "cell_type": "code",
      "source": [
        "def preprocess(image, label):\n",
        "    image = tf.cast(image, tf.float32) / 255.0\n",
        "    image = tf.image.resize(image, (28, 28))\n",
        "    return image, label"
      ],
      "metadata": {
        "id": "RjGIjjOPPI_n"
      },
      "execution_count": 5,
      "outputs": []
    },
    {
      "cell_type": "code",
      "source": [
        "train_ds = train_ds.map(preprocess)"
      ],
      "metadata": {
        "id": "ZIqj5kr8QRXp"
      },
      "execution_count": 40,
      "outputs": []
    },
    {
      "cell_type": "code",
      "source": [
        "val_ds = val_ds.map(preprocess)\n",
        "test_ds = test_ds = test_ds.map(preprocess)"
      ],
      "metadata": {
        "id": "AxalzfCGQcmD"
      },
      "execution_count": 41,
      "outputs": []
    },
    {
      "cell_type": "code",
      "source": [
        "train_images = tf.data.experimental.cardinality(train_ds).numpy()\n",
        "print(\"Number of train images:\", train_images)\n",
        "test_images = tf.data.experimental.cardinality(test_ds).numpy()\n",
        "print(\"Number of test images:\", test_images)\n",
        "val_images = tf.data.experimental.cardinality(val_ds).numpy()\n",
        "print(\"Number of validation images:\", val_images)"
      ],
      "metadata": {
        "colab": {
          "base_uri": "https://localhost:8080/"
        },
        "id": "suqHSv54Q3k6",
        "outputId": "246b6128-3039-4641-fb7e-2ad87f44bb80"
      },
      "execution_count": 8,
      "outputs": [
        {
          "output_type": "stream",
          "name": "stdout",
          "text": [
            "Number of train images: 558346\n",
            "Number of test images: 69793\n",
            "Number of validation images: 69793\n"
          ]
        }
      ]
    },
    {
      "cell_type": "code",
      "source": [
        "batch_size = 2000\n",
        "train_ds = train_ds.batch(batch_size)\n",
        "test_ds = test_ds.batch(batch_size)\n",
        "val_ds = val_ds.batch(batch_size)"
      ],
      "metadata": {
        "id": "xaSDvV_WSYfC"
      },
      "execution_count": 42,
      "outputs": []
    },
    {
      "cell_type": "code",
      "source": [
        "train_ds = train_ds.prefetch(tf.data.experimental.AUTOTUNE)\n",
        "test_ds = test_ds.prefetch(tf.data.experimental.AUTOTUNE)\n",
        "tval_ds = val_ds.prefetch(tf.data.experimental.AUTOTUNE)"
      ],
      "metadata": {
        "id": "flvTp_JTVJqC"
      },
      "execution_count": 43,
      "outputs": []
    },
    {
      "cell_type": "code",
      "source": [
        "model = Sequential()\n",
        "model.add(Conv2D(32, kernel_size = (3, 3), activation = 'relu', input_shape = (28, 28, 1)))\n",
        "model.add(MaxPooling2D(2, 2))\n",
        "model.add(Flatten())\n",
        "model.add(Dense(512, activation = 'relu'))\n",
        "model.add(Dense(128, activation = 'relu'))\n",
        "model.add(Dense(num_classes, activation = 'softmax'))"
      ],
      "metadata": {
        "id": "Du2Uc4UCVRZv"
      },
      "execution_count": 44,
      "outputs": []
    },
    {
      "cell_type": "code",
      "source": [
        "model.compile(optimizer = 'adam',\n",
        "              loss=tf.keras.losses.SparseCategoricalCrossentropy(from_logits=False),\n",
        "              metrics=['accuracy'])"
      ],
      "metadata": {
        "id": "N4e_gO4_hh4z"
      },
      "execution_count": 45,
      "outputs": []
    },
    {
      "cell_type": "code",
      "source": [
        "epochs = 20"
      ],
      "metadata": {
        "id": "Em-uincEhty4"
      },
      "execution_count": 46,
      "outputs": []
    },
    {
      "cell_type": "code",
      "source": [
        "model.fit(train_ds, validation_data=val_ds, epochs = epochs)"
      ],
      "metadata": {
        "colab": {
          "base_uri": "https://localhost:8080/"
        },
        "id": "E8h2lP0YhxYn",
        "outputId": "63729146-890d-4f86-9cf2-54822544fb19"
      },
      "execution_count": null,
      "outputs": [
        {
          "output_type": "stream",
          "name": "stdout",
          "text": [
            "Epoch 1/20\n",
            "280/280 [==============================] - 59s 203ms/step - loss: 0.8994 - accuracy: 0.7422 - val_loss: 0.5505 - val_accuracy: 0.8152\n",
            "Epoch 2/20\n",
            "280/280 [==============================] - 56s 201ms/step - loss: 0.4896 - accuracy: 0.8339 - val_loss: 0.4637 - val_accuracy: 0.8374\n",
            "Epoch 3/20\n",
            "280/280 [==============================] - 51s 183ms/step - loss: 0.4355 - accuracy: 0.8476 - val_loss: 0.4287 - val_accuracy: 0.8472\n",
            "Epoch 4/20\n",
            "280/280 [==============================] - 55s 195ms/step - loss: 0.4074 - accuracy: 0.8549 - val_loss: 0.4111 - val_accuracy: 0.8523\n",
            "Epoch 5/20\n",
            "280/280 [==============================] - 52s 185ms/step - loss: 0.3885 - accuracy: 0.8601 - val_loss: 0.4043 - val_accuracy: 0.8552\n",
            "Epoch 6/20\n",
            "280/280 [==============================] - 52s 184ms/step - loss: 0.3738 - accuracy: 0.8643 - val_loss: 0.3990 - val_accuracy: 0.8572\n",
            "Epoch 7/20\n",
            "280/280 [==============================] - 51s 182ms/step - loss: 0.3612 - accuracy: 0.8679 - val_loss: 0.3935 - val_accuracy: 0.8595\n",
            "Epoch 8/20\n",
            "280/280 [==============================] - 55s 197ms/step - loss: 0.3502 - accuracy: 0.8711 - val_loss: 0.3903 - val_accuracy: 0.8600\n",
            "Epoch 9/20\n",
            "280/280 [==============================] - 51s 183ms/step - loss: 0.3401 - accuracy: 0.8740 - val_loss: 0.3887 - val_accuracy: 0.8609\n",
            "Epoch 10/20\n",
            "280/280 [==============================] - 51s 182ms/step - loss: 0.3308 - accuracy: 0.8769 - val_loss: 0.3885 - val_accuracy: 0.8608\n",
            "Epoch 11/20\n",
            "280/280 [==============================] - 51s 182ms/step - loss: 0.3221 - accuracy: 0.8797 - val_loss: 0.3887 - val_accuracy: 0.8614\n",
            "Epoch 12/20\n",
            "280/280 [==============================] - 51s 181ms/step - loss: 0.3138 - accuracy: 0.8822 - val_loss: 0.3919 - val_accuracy: 0.8604\n",
            "Epoch 13/20\n",
            "280/280 [==============================] - 52s 186ms/step - loss: 0.3055 - accuracy: 0.8850 - val_loss: 0.3964 - val_accuracy: 0.8591\n",
            "Epoch 14/20\n",
            "280/280 [==============================] - 55s 197ms/step - loss: 0.2974 - accuracy: 0.8879 - val_loss: 0.4016 - val_accuracy: 0.8579\n",
            "Epoch 15/20\n",
            " 15/280 [>.............................] - ETA: 41s - loss: 0.2906 - accuracy: 0.8905"
          ]
        }
      ]
    },
    {
      "cell_type": "code",
      "source": [
        "loss, accuracy = model.evaluate(test_ds)"
      ],
      "metadata": {
        "colab": {
          "base_uri": "https://localhost:8080/"
        },
        "id": "L1T8jmcUiXtH",
        "outputId": "70be6f17-81cb-4ab1-c73e-167be453f75c"
      },
      "execution_count": 32,
      "outputs": [
        {
          "output_type": "stream",
          "name": "stdout",
          "text": [
            "70/70 [==============================] - 6s 89ms/step - loss: 0.4220 - accuracy: 0.8519\n"
          ]
        }
      ]
    },
    {
      "cell_type": "code",
      "source": [],
      "metadata": {
        "id": "-y6XPvJMl8dI"
      },
      "execution_count": 15,
      "outputs": []
    }
  ],
  "metadata": {
    "colab": {
      "provenance": [],
      "gpuType": "T4"
    },
    "kernelspec": {
      "display_name": "Python 3",
      "name": "python3"
    },
    "language_info": {
      "name": "python"
    },
    "accelerator": "GPU",
    "gpuClass": "standard"
  },
  "nbformat": 4,
  "nbformat_minor": 0
}